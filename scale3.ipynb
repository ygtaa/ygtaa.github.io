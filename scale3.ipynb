{
 "cells": [
  {
   "cell_type": "code",
   "execution_count": 13,
   "id": "32c85eee",
   "metadata": {},
   "outputs": [
    {
     "name": "stdout",
     "output_type": "stream",
     "text": [
      "p**13 + 13*p**12*(1 - p) + 78*p**11*(1 - p)**2 + 283*p**10*(1 - p)**3 + 677*p**9*(1 - p)**4 + 1078*p**8*(1 - p)**5 + 1089*p**7*(1 - p)**6 + 627*p**6*(1 - p)**7 + 209*p**5*(1 - p)**8 + 38*p**4*(1 - p)**9 + 3*p**3*(1 - p)**10\n",
      "[0, 0, 0, CRootOf(18*x**10 - 117*x**9 + 298*x**8 - 352*x**7 + 149*x**6 + 39*x**5 - 10*x**4 - 37*x**3 + 2*x**2 + 8*x + 3, 0), CRootOf(18*x**10 - 117*x**9 + 298*x**8 - 352*x**7 + 149*x**6 + 39*x**5 - 10*x**4 - 37*x**3 + 2*x**2 + 8*x + 3, 1), CRootOf(18*x**10 - 117*x**9 + 298*x**8 - 352*x**7 + 149*x**6 + 39*x**5 - 10*x**4 - 37*x**3 + 2*x**2 + 8*x + 3, 2), CRootOf(18*x**10 - 117*x**9 + 298*x**8 - 352*x**7 + 149*x**6 + 39*x**5 - 10*x**4 - 37*x**3 + 2*x**2 + 8*x + 3, 3), CRootOf(18*x**10 - 117*x**9 + 298*x**8 - 352*x**7 + 149*x**6 + 39*x**5 - 10*x**4 - 37*x**3 + 2*x**2 + 8*x + 3, 4), CRootOf(18*x**10 - 117*x**9 + 298*x**8 - 352*x**7 + 149*x**6 + 39*x**5 - 10*x**4 - 37*x**3 + 2*x**2 + 8*x + 3, 5), CRootOf(18*x**10 - 117*x**9 + 298*x**8 - 352*x**7 + 149*x**6 + 39*x**5 - 10*x**4 - 37*x**3 + 2*x**2 + 8*x + 3, 6), CRootOf(18*x**10 - 117*x**9 + 298*x**8 - 352*x**7 + 149*x**6 + 39*x**5 - 10*x**4 - 37*x**3 + 2*x**2 + 8*x + 3, 7), CRootOf(18*x**10 - 117*x**9 + 298*x**8 - 352*x**7 + 149*x**6 + 39*x**5 - 10*x**4 - 37*x**3 + 2*x**2 + 8*x + 3, 8), CRootOf(18*x**10 - 117*x**9 + 298*x**8 - 352*x**7 + 149*x**6 + 39*x**5 - 10*x**4 - 37*x**3 + 2*x**2 + 8*x + 3, 9)]\n",
      "0.500000000000000\n"
     ]
    },
    {
     "data": {
      "text/latex": [
       "$\\displaystyle 1.3797$"
      ],
      "text/plain": [
       "1.3797"
      ]
     },
     "execution_count": 13,
     "metadata": {},
     "output_type": "execute_result"
    }
   ],
   "source": [
    "import sympy as sp\n",
    "import numpy as np\n",
    "\n",
    "p=sp.symbols('p')\n",
    "p2=0\n",
    "for n in range(8192):\n",
    "    binn=list('{:013b}'.format(n))\n",
    "    bond=[int(binn[i]) for i in range(len(binn))]\n",
    "    for i in range(27):\n",
    "        r=0\n",
    "        path=[]\n",
    "        while i>0:\n",
    "            r=i%3\n",
    "            path.insert(0,r)\n",
    "            i=i//3\n",
    "        path.append(r)\n",
    "        for a in range(4-len(path)):\n",
    "            path.insert(0,0)\n",
    "        flag=True\n",
    "        for j in range(3):\n",
    "            if bond[path[j]*3+j]==0:\n",
    "                flag=False\n",
    "        for j in range(2):        \n",
    "            if  abs(path[j+1]-path[j])==1:\n",
    "                if bond[min(path[j],path[j+1])+9+j*2]==0:\n",
    "                    flag=False\n",
    "            if abs(path[j+1]-path[j])==2:\n",
    "                 if bond[9+j*2]==0 or bond[10+j*2]==0:\n",
    "                    flag=False\n",
    "        if flag==True:\n",
    "            p2=p2+p**(sum(bond))*(1-p)**(13-sum(bond))\n",
    "            break\n",
    "p2=p2+2*p**7*(1-p)**6        \n",
    "print(p2)                   \n",
    "solution=sp.solve(p2,p)                    \n",
    "print(solution)        \n",
    "print(p2.evalf(subs ={'p':0.5}))\n",
    "\n",
    "df=sp.diff(p2,p)\n",
    "dfe=df.evalf(subs ={'p':0.5})\n",
    "v=sp.log(3)/sp.log(dfe)\n",
    "v.evalf(n=5)"
   ]
  },
  {
   "cell_type": "code",
   "execution_count": 76,
   "id": "bac50be0",
   "metadata": {},
   "outputs": [
    {
     "data": {
      "image/png": "[encoded data removed]",
      "text/plain": [
       "<Figure size 640x480 with 1 Axes>"
      ]
     },
     "metadata": {},
     "output_type": "display_data"
    }
   ],
   "source": [
    "import matplotlib.pyplot as plt\n",
    "from pylab import xticks,yticks\n",
    "import numpy as np\n",
    "\n",
    "xticks(np.linspace(0,3,4,endpoint=True))\n",
    "yticks(np.linspace(0,3,4,endpoint=True))\n",
    "plt.axis('off')\n",
    "plt.grid(linestyle='-.')\n",
    "\n",
    "\n",
    "xpoints = np.array([0,3])  \n",
    "ypoints = np.array([1,1]) \n",
    "plt.plot(xpoints, ypoints,linewidth=4,color='lightgreen')\n",
    "plt.arrow(2.5,1,0,1.75,width=0.05,color='lightgreen')\n",
    "\n",
    "xpoints = np.array([0,3])  \n",
    "ypoints = np.array([2,2])  \n",
    "plt.plot(xpoints, ypoints,linewidth=4,color='darkgreen')\n",
    "plt.arrow(1.5,2,0,0.75,width=0.05,color='darkgreen')\n",
    "\n",
    "xpoints = np.array([0,3])  \n",
    "ypoints = np.array([3,3])  \n",
    "plt.plot(xpoints, ypoints,linewidth=4,color='k') \n",
    "\n",
    "xpoints = np.array([0,0])  \n",
    "ypoints = np.array([0,3])  \n",
    "plt.plot(xpoints, ypoints,linewidth=4,color='k') \n",
    "\n",
    "xpoints = np.array([1,1])  \n",
    "ypoints = np.array([0,3])  \n",
    "plt.plot(xpoints, ypoints,linewidth=4,color='lightseagreen') \n",
    "plt.arrow(1,1.5,-0.75,0,width=0.05,color='lightseagreen')\n",
    "\n",
    "xpoints = np.array([2,2])  \n",
    "ypoints = np.array([0,3])  \n",
    "plt.plot(xpoints, ypoints,linewidth=4,color='yellowgreen') \n",
    "plt.arrow(2,0.5,-1.75,0,width=0.05,color='yellowgreen')\n",
    "\n",
    "plt.show()"
   ]
  },
  {
   "cell_type": "code",
   "execution_count": 2,
   "id": "7dfe9a81",
   "metadata": {},
   "outputs": [
    {
     "data": {
      "image/png": "[encoded data removed]",
      "text/plain": [
       "<Figure size 640x480 with 1 Axes>"
      ]
     },
     "metadata": {},
     "output_type": "display_data"
    }
   ],
   "source": [
    "import matplotlib.pyplot as plt\n",
    "from pylab import xticks,yticks\n",
    "import numpy as np\n",
    "\n",
    "xticks(np.linspace(0,3,4,endpoint=True))\n",
    "yticks(np.linspace(0,3,4,endpoint=True))\n",
    "plt.axis('off')\n",
    "plt.grid(linestyle='-.')\n",
    "\n",
    "\n",
    "\n",
    "\n",
    "xpoints = np.array([0,3])  \n",
    "ypoints = np.array([3,3])  \n",
    "plt.plot(xpoints, ypoints,linewidth=4,color='k') \n",
    "xpoints = np.array([0,0])  \n",
    "ypoints = np.array([0,3])  \n",
    "plt.plot(xpoints, ypoints,linewidth=4,color='k') \n",
    "\n",
    "plt.show()"
   ]
  },
  {
   "cell_type": "code",
   "execution_count": 8,
   "id": "a49d255a",
   "metadata": {},
   "outputs": [
    {
     "data": {
      "image/png": "[encoded data removed]",
      "text/plain": [
       "<Figure size 640x480 with 1 Axes>"
      ]
     },
     "metadata": {},
     "output_type": "display_data"
    }
   ],
   "source": [
    "import matplotlib.pyplot as plt\n",
    "from pylab import xticks,yticks\n",
    "import numpy as np\n",
    "\n",
    "xticks(np.linspace(0,2,3,endpoint=True))\n",
    "yticks(np.linspace(0,2,3,endpoint=True))\n",
    "plt.axis('off')\n",
    "plt.grid(linestyle='-.')\n",
    "\n",
    "\n",
    "xpoints = np.array([0,2])  \n",
    "ypoints = np.array([1,1]) \n",
    "plt.plot(xpoints, ypoints,linewidth=4,color='lightgreen')\n",
    "plt.arrow(1.5,1,0,0.75,width=0.05,color='lightgreen')\n",
    "\n",
    "xpoints = np.array([0,2])  \n",
    "ypoints = np.array([2,2])  \n",
    "plt.plot(xpoints, ypoints,linewidth=4,color='k')\n",
    "\n",
    "\n",
    "\n",
    "xpoints = np.array([0,0])  \n",
    "ypoints = np.array([0,2])  \n",
    "plt.plot(xpoints, ypoints,linewidth=4,color='k')\n",
    "\n",
    "\n",
    "xpoints = np.array([1,1])  \n",
    "ypoints = np.array([0,2])  \n",
    "plt.plot(xpoints, ypoints,linewidth=4,color='lightseagreen') \n",
    "plt.arrow(1,0.5,-0.75,0,width=0.05,color='lightseagreen')\n",
    "\n",
    "\n",
    "plt.show()"
   ]
  },
  {
   "cell_type": "code",
   "execution_count": 10,
   "id": "5fd8f310",
   "metadata": {},
   "outputs": [
    {
     "data": {
      "image/png": "[encoded data removed]",
      "text/plain": [
       "<Figure size 640x480 with 1 Axes>"
      ]
     },
     "metadata": {},
     "output_type": "display_data"
    }
   ],
   "source": [
    "import matplotlib.pyplot as plt\n",
    "from pylab import xticks,yticks\n",
    "import numpy as np\n",
    "\n",
    "xticks(np.linspace(0,2,3,endpoint=True))\n",
    "yticks(np.linspace(0,2,3,endpoint=True))\n",
    "plt.axis('off')\n",
    "plt.grid(linestyle='-.')\n",
    "\n",
    "\n",
    "\n",
    "\n",
    "\n",
    "xpoints = np.array([0,2])  \n",
    "ypoints = np.array([2,2])  \n",
    "plt.plot(xpoints, ypoints,linewidth=4,color='k')\n",
    "\n",
    "\n",
    "\n",
    "xpoints = np.array([0,0])  \n",
    "ypoints = np.array([0,2])  \n",
    "plt.plot(xpoints, ypoints,linewidth=4,color='k')\n",
    "\n",
    "\n",
    "\n",
    "plt.show()"
   ]
  },
  {
   "cell_type": "code",
   "execution_count": null,
   "id": "5f1cf8f8",
   "metadata": {},
   "outputs": [],
   "source": []
  },
  {
   "cell_type": "code",
   "execution_count": null,
   "id": "e5457750",
   "metadata": {},
   "outputs": [],
   "source": []
  }
 ],
 "metadata": {
  "kernelspec": {
   "display_name": "Python 3 (ipykernel)",
   "language": "python",
   "name": "python3"
  },
  "language_info": {
   "codemirror_mode": {
    "name": "ipython",
    "version": 3
   },
   "file_extension": ".py",
   "mimetype": "text/x-python",
   "name": "python",
   "nbconvert_exporter": "python",
   "pygments_lexer": "ipython3",
   "version": "3.11.5"
  }
 },
 "nbformat": 4,
 "nbformat_minor": 5
}
